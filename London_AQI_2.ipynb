{
 "cells": [
  {
   "cell_type": "code",
   "execution_count": 43,
   "id": "5713ea85",
   "metadata": {},
   "outputs": [],
   "source": [
    "import requests\n",
    "import pandas as pd\n",
    "import numpy as np\n",
    "import json\n",
    "import datetime\n",
    "from datetime import date, timedelta"
   ]
  },
  {
   "cell_type": "code",
   "execution_count": 24,
   "id": "c2dd4b2b",
   "metadata": {},
   "outputs": [
    {
     "name": "stdout",
     "output_type": "stream",
     "text": [
      "2016-04-01\n",
      "2017-04-02\n",
      "2017-04-02\n",
      "2018-04-03\n",
      "2018-04-03\n",
      "2019-04-04\n",
      "2019-04-04\n",
      "2020-04-04\n",
      "2020-04-04\n",
      "2021-04-05\n"
     ]
    }
   ],
   "source": [
    "s_date = date(2016, 4, 1)\n",
    "delta=366\n",
    "responses=[]\n",
    "start_date=s_date\n",
    "for i in range(5):\n",
    "    end_date=start_date + timedelta(days = delta)\n",
    "    print(start_date)\n",
    "    print(end_date)\n",
    "    r=requests.get('https://docs.openaq.org/v2/measurements?date_from='+str(start_date)+'T00%3A00%3A00%2B00%3A00&date_to='+str(end_date)+'T03%3A55%3A00%2B00%3A00&limit=100000&page=1&offset=0&sort=desc&radius=1000&country_id=GB&location_id=155&order_by=datetime')\n",
    "    responses += [r.json()]\n",
    "    start_date=end_date"
   ]
  },
  {
   "cell_type": "code",
   "execution_count": 44,
   "id": "8d9e0afe",
   "metadata": {},
   "outputs": [],
   "source": [
    "params=['o3', 'no2', 'pm25', 'pm10']\n",
    "s_date = date(2016, 4, 1)\n",
    "e_date = date(2021, 4, 5)\n",
    "date_list = [str(s_date + timedelta(days = x)) for x in range((e_date - s_date).days + 1)]\n",
    "data_dict={date_list[i]:{param:[] for param in params} for i in range(len(date_list))}\n"
   ]
  },
  {
   "cell_type": "code",
   "execution_count": 35,
   "id": "83f45260",
   "metadata": {
    "scrolled": true
   },
   "outputs": [],
   "source": [
    "from datetime import datetime\n",
    "for data in responses:\n",
    "    for info_by_date in data['results']:\n",
    "        date_obj=datetime.fromisoformat(info_by_date['date']['local'])\n",
    "        info_date=date_obj.strftime('%Y-%m-%d')\n",
    "        param=info_by_date['parameter']\n",
    "        if param in params:\n",
    "            data_dict[info_date][param] += [info_by_date['value']]"
   ]
  },
  {
   "cell_type": "code",
   "execution_count": 36,
   "id": "afd6b135",
   "metadata": {},
   "outputs": [],
   "source": [
    "def avg_list(l):\n",
    "    sum = 0\n",
    "    for ele in l:\n",
    "        sum += ele\n",
    "    return int(sum/len(l)) if len(l)>0 else  \"NA\"\n",
    "data_dict_avg={date_list[i]:{param:avg_list(data_dict[date_list[i]][param]) for param in params} for i in range(len(date_list))}"
   ]
  },
  {
   "cell_type": "code",
   "execution_count": 37,
   "id": "2a6275ad",
   "metadata": {},
   "outputs": [],
   "source": [
    "df=pd.DataFrame()"
   ]
  },
  {
   "cell_type": "code",
   "execution_count": 38,
   "id": "a5270019",
   "metadata": {},
   "outputs": [],
   "source": [
    "units='(µg/m³)'\n",
    "headers=['date'] + params"
   ]
  },
  {
   "cell_type": "code",
   "execution_count": 39,
   "id": "31d9d944",
   "metadata": {},
   "outputs": [],
   "source": [
    "header_list={header:[] for header in headers}\n",
    "for date in data_dict_avg:\n",
    "    header_list['date']+= [date]\n",
    "    for param in data_dict_avg[date]:\n",
    "        header_list[param] += [data_dict_avg[date][param]]\n",
    "for header in headers:\n",
    "    if header != 'date':\n",
    "        df[header + units]=header_list[header]\n",
    "    else:\n",
    "        df[header]=header_list[header]\n",
    "    "
   ]
  },
  {
   "cell_type": "code",
   "execution_count": 40,
   "id": "c27db5da",
   "metadata": {},
   "outputs": [
    {
     "data": {
      "text/html": [
       "<div>\n",
       "<style scoped>\n",
       "    .dataframe tbody tr th:only-of-type {\n",
       "        vertical-align: middle;\n",
       "    }\n",
       "\n",
       "    .dataframe tbody tr th {\n",
       "        vertical-align: top;\n",
       "    }\n",
       "\n",
       "    .dataframe thead th {\n",
       "        text-align: right;\n",
       "    }\n",
       "</style>\n",
       "<table border=\"1\" class=\"dataframe\">\n",
       "  <thead>\n",
       "    <tr style=\"text-align: right;\">\n",
       "      <th></th>\n",
       "      <th>date</th>\n",
       "      <th>o3(µg/m³)</th>\n",
       "      <th>no2(µg/m³)</th>\n",
       "      <th>pm25(µg/m³)</th>\n",
       "      <th>pm10(µg/m³)</th>\n",
       "    </tr>\n",
       "  </thead>\n",
       "  <tbody>\n",
       "    <tr>\n",
       "      <th>0</th>\n",
       "      <td>2016-04-01</td>\n",
       "      <td>37</td>\n",
       "      <td>39</td>\n",
       "      <td>13</td>\n",
       "      <td>20</td>\n",
       "    </tr>\n",
       "    <tr>\n",
       "      <th>1</th>\n",
       "      <td>2016-04-02</td>\n",
       "      <td>68</td>\n",
       "      <td>24</td>\n",
       "      <td>13</td>\n",
       "      <td>21</td>\n",
       "    </tr>\n",
       "    <tr>\n",
       "      <th>2</th>\n",
       "      <td>2016-04-03</td>\n",
       "      <td>44</td>\n",
       "      <td>30</td>\n",
       "      <td>21</td>\n",
       "      <td>26</td>\n",
       "    </tr>\n",
       "    <tr>\n",
       "      <th>3</th>\n",
       "      <td>2016-04-04</td>\n",
       "      <td>54</td>\n",
       "      <td>24</td>\n",
       "      <td>15</td>\n",
       "      <td>22</td>\n",
       "    </tr>\n",
       "    <tr>\n",
       "      <th>4</th>\n",
       "      <td>2016-04-05</td>\n",
       "      <td>61</td>\n",
       "      <td>24</td>\n",
       "      <td>7</td>\n",
       "      <td>15</td>\n",
       "    </tr>\n",
       "    <tr>\n",
       "      <th>...</th>\n",
       "      <td>...</td>\n",
       "      <td>...</td>\n",
       "      <td>...</td>\n",
       "      <td>...</td>\n",
       "      <td>...</td>\n",
       "    </tr>\n",
       "    <tr>\n",
       "      <th>1826</th>\n",
       "      <td>2021-04-01</td>\n",
       "      <td>69</td>\n",
       "      <td>14</td>\n",
       "      <td>21</td>\n",
       "      <td>35</td>\n",
       "    </tr>\n",
       "    <tr>\n",
       "      <th>1827</th>\n",
       "      <td>2021-04-02</td>\n",
       "      <td>78</td>\n",
       "      <td>7</td>\n",
       "      <td>9</td>\n",
       "      <td>17</td>\n",
       "    </tr>\n",
       "    <tr>\n",
       "      <th>1828</th>\n",
       "      <td>2021-04-03</td>\n",
       "      <td>81</td>\n",
       "      <td>8</td>\n",
       "      <td>7</td>\n",
       "      <td>15</td>\n",
       "    </tr>\n",
       "    <tr>\n",
       "      <th>1829</th>\n",
       "      <td>2021-04-04</td>\n",
       "      <td>74</td>\n",
       "      <td>15</td>\n",
       "      <td>9</td>\n",
       "      <td>20</td>\n",
       "    </tr>\n",
       "    <tr>\n",
       "      <th>1830</th>\n",
       "      <td>2021-04-05</td>\n",
       "      <td>69</td>\n",
       "      <td>12</td>\n",
       "      <td>12</td>\n",
       "      <td>21</td>\n",
       "    </tr>\n",
       "  </tbody>\n",
       "</table>\n",
       "<p>1831 rows × 5 columns</p>\n",
       "</div>"
      ],
      "text/plain": [
       "            date o3(µg/m³) no2(µg/m³) pm25(µg/m³) pm10(µg/m³)\n",
       "0     2016-04-01        37         39          13          20\n",
       "1     2016-04-02        68         24          13          21\n",
       "2     2016-04-03        44         30          21          26\n",
       "3     2016-04-04        54         24          15          22\n",
       "4     2016-04-05        61         24           7          15\n",
       "...          ...       ...        ...         ...         ...\n",
       "1826  2021-04-01        69         14          21          35\n",
       "1827  2021-04-02        78          7           9          17\n",
       "1828  2021-04-03        81          8           7          15\n",
       "1829  2021-04-04        74         15           9          20\n",
       "1830  2021-04-05        69         12          12          21\n",
       "\n",
       "[1831 rows x 5 columns]"
      ]
     },
     "execution_count": 40,
     "metadata": {},
     "output_type": "execute_result"
    }
   ],
   "source": [
    "df"
   ]
  },
  {
   "cell_type": "code",
   "execution_count": 41,
   "id": "a8f455db",
   "metadata": {},
   "outputs": [
    {
     "name": "stdout",
     "output_type": "stream",
     "text": [
      "DataFrame is written to Excel File successfully.\n"
     ]
    }
   ],
   "source": [
    "# determining the name of the file\n",
    "file_name = 'London_Kensington_AQI_upd.xlsx'\n",
    "  \n",
    "# saving the excel\n",
    "df.to_excel(file_name)\n",
    "print('DataFrame is written to Excel File successfully.')"
   ]
  }
 ],
 "metadata": {
  "kernelspec": {
   "display_name": "Python 3 (ipykernel)",
   "language": "python",
   "name": "python3"
  },
  "language_info": {
   "codemirror_mode": {
    "name": "ipython",
    "version": 3
   },
   "file_extension": ".py",
   "mimetype": "text/x-python",
   "name": "python",
   "nbconvert_exporter": "python",
   "pygments_lexer": "ipython3",
   "version": "3.9.6"
  }
 },
 "nbformat": 4,
 "nbformat_minor": 5
}
